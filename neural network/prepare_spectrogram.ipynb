{
 "cells": [
  {
   "cell_type": "code",
   "execution_count": null,
   "id": "c63e1eba",
   "metadata": {},
   "outputs": [],
   "source": [
    "import os\n",
    "from glob import glob\n",
    "\n",
    "import librosa.display\n",
    "import numpy as np\n",
    "from tqdm import tqdm\n",
    "\n",
    "from audio_augmentations import change_pitch, change_speed, change_value, change_noise\n",
    "from spectrogram_utils import normalize_signal_length, generate_spectrogram\n"
   ]
  },
  {
   "cell_type": "markdown",
   "id": "b9590f93",
   "metadata": {},
   "source": [
    "### Get images"
   ]
  },
  {
   "cell_type": "code",
   "execution_count": null,
   "id": "8eb2f183",
   "metadata": {},
   "outputs": [],
   "source": [
    "images = glob(\"/home/david/expasoft/fart_detector/datasets/eval_mobile/*/*\")\n",
    "print(\"Total images to process:\", len(images))"
   ]
  },
  {
   "cell_type": "markdown",
   "id": "1791278f",
   "metadata": {},
   "source": [
    "### Fucntion to process audio and get spectrogram"
   ]
  },
  {
   "cell_type": "code",
   "execution_count": null,
   "id": "55538ccc",
   "metadata": {},
   "outputs": [],
   "source": [
    "def get_spectrogram(\n",
    "    signal: np.ndarray, \n",
    "    sample_rate: int = 16000,\n",
    "    n_fft: int = 1024,\n",
    "    hop_length: int = 128,\n",
    "    sample_length_sec: int = 2,\n",
    "    use_augmentations=True,\n",
    ") -> np.ndarray:\n",
    "    if use_augmentations:\n",
    "        if np.random.uniform() < 0.2:\n",
    "            signal = change_pitch(signal, sample_rate)\n",
    "        if np.random.uniform() < 0.2:\n",
    "            signal = change_speed(signal)\n",
    "        if np.random.uniform() < 0.2:\n",
    "            signal = change_value(signal)\n",
    "        if np.random.uniform() < 0.2:\n",
    "            signal = change_noise(signal)\n",
    "\n",
    "    signal = normalize_signal_length(\n",
    "        source_signal=signal,\n",
    "        target_length_sec=sample_length_sec,\n",
    "        sample_rate=sample_rate,\n",
    "    )\n",
    "    signal = (signal - signal.mean()) / signal.std()\n",
    "\n",
    "    spectrogram = generate_spectrogram(\n",
    "        signal=signal,\n",
    "        sample_rate=sample_rate,\n",
    "        n_fft=n_fft,\n",
    "        hop_length=hop_length,\n",
    "    )\n",
    "    return spectrogram"
   ]
  },
  {
   "cell_type": "markdown",
   "id": "cfa3179a",
   "metadata": {},
   "source": [
    "### Process images"
   ]
  },
  {
   "cell_type": "code",
   "execution_count": null,
   "id": "b9cde6fb",
   "metadata": {},
   "outputs": [],
   "source": [
    "target_folder = \"/home/david/expasoft/fart_detector/datasets/eval_mobile_spectrograms\"\n",
    "augmentation_count = 2\n",
    "\n",
    "for filename in tqdm(images):\n",
    "    signal, _ = librosa.load(filename, 16000)\n",
    "\n",
    "    for num in range(augmentation_count):\n",
    "        spectr = get_spectrogram(signal)\n",
    "        \n",
    "        target_directory = os.path.join(target_folder, filename.split('/')[-2])\n",
    "        if not os.path.exists(target_directory):\n",
    "            os.makedirs(target_directory)\n",
    "            \n",
    "        target_filename = os.path.join(target_directory, str(num) + '_' + filename.split('/')[-1].split('.')[0] + '.npy')\n",
    "        \n",
    "        with open(target_filename, 'wb') as f:\n",
    "            np.save(f, spectr)"
   ]
  },
  {
   "cell_type": "code",
   "execution_count": null,
   "id": "d635bb6e",
   "metadata": {},
   "outputs": [],
   "source": []
  }
 ],
 "metadata": {
  "kernelspec": {
   "display_name": "fart_detector_37",
   "language": "python",
   "name": "fart_detector_37"
  },
  "language_info": {
   "codemirror_mode": {
    "name": "ipython",
    "version": 3
   },
   "file_extension": ".py",
   "mimetype": "text/x-python",
   "name": "python",
   "nbconvert_exporter": "python",
   "pygments_lexer": "ipython3",
   "version": "3.7.11"
  }
 },
 "nbformat": 4,
 "nbformat_minor": 5
}
