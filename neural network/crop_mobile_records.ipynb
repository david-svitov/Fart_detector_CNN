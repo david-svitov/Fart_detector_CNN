{
 "cells": [
  {
   "cell_type": "code",
   "execution_count": null,
   "id": "712fa427",
   "metadata": {},
   "outputs": [],
   "source": [
    "import os\n",
    "\n",
    "import librosa\n",
    "import soundfile as sf"
   ]
  },
  {
   "cell_type": "markdown",
   "id": "412b67d4",
   "metadata": {},
   "source": [
    "### Process audio file"
   ]
  },
  {
   "cell_type": "code",
   "execution_count": null,
   "id": "e464528a",
   "metadata": {},
   "outputs": [],
   "source": [
    "crop_length_sec = 4\n",
    "step_length_sec = 0.2\n",
    "sample_rate = 48000\n",
    "\n",
    "audio_signal, _ = librosa.load(\"/home/david/expasoft/fart_detector/datasets/fart_eval_mic.wav\", sample_rate)\n",
    "target_folder = \"/home/david/expasoft/fart_detector/datasets/eval_mobile/fart\"\n",
    "\n",
    "count = 0\n",
    "for idx in range(0, len(audio_signal) - crop_length_sec * sample_rate, int(step_length_sec * sample_rate)):\n",
    "    signal_part = audio_signal[idx: idx + crop_length_sec * sample_rate]\n",
    "    sf.write(\n",
    "        os.path.join(target_folder, str(idx) + '.wav'), \n",
    "        signal_part, \n",
    "        48000, \n",
    "        'PCM_16',\n",
    "    )"
   ]
  },
  {
   "cell_type": "code",
   "execution_count": null,
   "id": "76d0582d",
   "metadata": {},
   "outputs": [],
   "source": []
  }
 ],
 "metadata": {
  "kernelspec": {
   "display_name": "fart_detector_37",
   "language": "python",
   "name": "fart_detector_37"
  },
  "language_info": {
   "codemirror_mode": {
    "name": "ipython",
    "version": 3
   },
   "file_extension": ".py",
   "mimetype": "text/x-python",
   "name": "python",
   "nbconvert_exporter": "python",
   "pygments_lexer": "ipython3",
   "version": "3.7.11"
  }
 },
 "nbformat": 4,
 "nbformat_minor": 5
}
