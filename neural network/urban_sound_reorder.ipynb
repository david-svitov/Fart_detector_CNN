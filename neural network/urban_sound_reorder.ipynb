{
 "cells": [
  {
   "cell_type": "code",
   "execution_count": null,
   "id": "c54d8531",
   "metadata": {},
   "outputs": [],
   "source": [
    "import os\n",
    "from glob import glob\n",
    "from shutil import copyfile, move\n",
    "\n",
    "import pandas as pd"
   ]
  },
  {
   "cell_type": "markdown",
   "id": "87db26f2",
   "metadata": {},
   "source": [
    "### Paths to UrbanSound8K subfolders"
   ]
  },
  {
   "cell_type": "code",
   "execution_count": null,
   "id": "38b115fa",
   "metadata": {},
   "outputs": [],
   "source": [
    "root_dir = \"/home/david/expasoft/fart_detector/datasets/UrbanSound8K\"\n",
    "\n",
    "metadata_path = os.path.join(root_dir, \"metadata/UrbanSound8K.csv\")\n",
    "datafolder_path = os.path.join(root_dir, \"audio\")"
   ]
  },
  {
   "cell_type": "markdown",
   "id": "39e5acab",
   "metadata": {},
   "source": [
    "### Read CSV file with labels"
   ]
  },
  {
   "cell_type": "code",
   "execution_count": null,
   "id": "c8182ec4",
   "metadata": {},
   "outputs": [],
   "source": [
    "labels = pd.read_csv(metadata_path)\n",
    "labels.head()"
   ]
  },
  {
   "cell_type": "markdown",
   "id": "56f7f565",
   "metadata": {},
   "source": [
    "### Move WAV files to separate folders accroding to class"
   ]
  },
  {
   "cell_type": "code",
   "execution_count": null,
   "id": "b2862433",
   "metadata": {},
   "outputs": [],
   "source": [
    "target_root = \"/home/david/expasoft/fart_detector/datasets\"\n",
    "\n",
    "for index, row in labels.iterrows():\n",
    "    source_filename = os.path.join(datafolder_path, \"fold\" + str(row[\"fold\"]), row[\"slice_file_name\"])\n",
    "    target_folder = os.path.join(target_root, row['class'])\n",
    "    target_filename = os.path.join(target_folder, \"fold\" + str(row[\"fold\"]) + \"_\" + row[\"slice_file_name\"])\n",
    "    \n",
    "    if not os.path.exists(target_folder):\n",
    "        os.makedirs(target_folder)\n",
    "    \n",
    "    copyfile(source_filename, target_filename)"
   ]
  },
  {
   "cell_type": "markdown",
   "id": "f6b1a1da",
   "metadata": {},
   "source": [
    "### Random split of data for train and test"
   ]
  },
  {
   "cell_type": "code",
   "execution_count": null,
   "id": "cfe39b13",
   "metadata": {},
   "outputs": [],
   "source": [
    "audio_subfolders = glob(os.path.join(target_root, \"*\"))\n",
    "print(\"Total folders:\", len(audio_subfolders))"
   ]
  },
  {
   "cell_type": "code",
   "execution_count": null,
   "id": "2d979180",
   "metadata": {},
   "outputs": [],
   "source": [
    "eval_root_folder = \"/home/david/expasoft/fart_detector/datasets/eval\"\n",
    "\n",
    "for folder_path in audio_subfolders:\n",
    "    folder_name = folder_path.split(\"/\")[-1]\n",
    "    \n",
    "    local_samples = glob(os.path.join(folder_path, \"*.wav\"))\n",
    "    eval_split = len(local_samples) * 0.2\n",
    "    eval_split = int(eval_split)\n",
    "    eval_samples = local_samples[:eval_split]\n",
    "    train_samples = local_samples[eval_split:]\n",
    "    \n",
    "    print(folder_name, len(eval_samples), len(train_samples))\n",
    "    \n",
    "    directory = os.path.join(eval_root_folder, folder_name)\n",
    "    if not os.path.exists(directory):\n",
    "        os.makedirs(directory)\n",
    "        \n",
    "    for eval_file_path in eval_samples:\n",
    "        eval_filename = eval_file_path.split(\"/\")[-1]\n",
    "        target_filename = os.path.join(directory, eval_filename)\n",
    "        move(eval_file_path, target_filename)"
   ]
  },
  {
   "cell_type": "code",
   "execution_count": null,
   "id": "474b85c6",
   "metadata": {},
   "outputs": [],
   "source": []
  }
 ],
 "metadata": {
  "kernelspec": {
   "display_name": "fart_detector",
   "language": "python",
   "name": "fart_detector"
  },
  "language_info": {
   "codemirror_mode": {
    "name": "ipython",
    "version": 3
   },
   "file_extension": ".py",
   "mimetype": "text/x-python",
   "name": "python",
   "nbconvert_exporter": "python",
   "pygments_lexer": "ipython3",
   "version": "3.8.5"
  }
 },
 "nbformat": 4,
 "nbformat_minor": 5
}
