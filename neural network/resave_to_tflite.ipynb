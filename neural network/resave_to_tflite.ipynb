{
 "cells": [
  {
   "cell_type": "code",
   "execution_count": null,
   "id": "a3f6e447",
   "metadata": {},
   "outputs": [],
   "source": [
    "import os\n",
    "\n",
    "import tensorflow as tf\n",
    "from tensorflow import keras\n",
    "from tensorflow.keras.backend import set_session\n",
    "\n",
    "os.environ[\"CUDA_VISIBLE_DEVICES\"] = \"0\""
   ]
  },
  {
   "cell_type": "code",
   "execution_count": null,
   "id": "959f1fa4",
   "metadata": {},
   "outputs": [],
   "source": [
    "config = tf.ConfigProto()\n",
    "config.gpu_options.allow_growth = True  # dynamically grow the memory used on the GPU\n",
    "config.log_device_placement = True  # to log device placement (on which device the operation ran)\n",
    "sess = tf.Session(config=config)\n",
    "set_session(sess)"
   ]
  },
  {
   "cell_type": "markdown",
   "id": "3694ebcf",
   "metadata": {},
   "source": [
    "### Create model"
   ]
  },
  {
   "cell_type": "code",
   "execution_count": null,
   "id": "44e20781",
   "metadata": {},
   "outputs": [],
   "source": [
    "keras.backend.set_learning_phase(0)\n",
    "input_width = 251\n",
    "\n",
    "backbone = keras.applications.MobileNetV2(\n",
    "    input_shape=(128, input_width, 1),\n",
    "    alpha=1.0,\n",
    "    include_top=False,\n",
    "    weights=None,\n",
    ")\n",
    "for layer in backbone.layers:\n",
    "    if type(layer) == type(keras.layers.BatchNormalization()):\n",
    "        layer.momentum = 0.9\n",
    "\n",
    "backbone = keras.Model(inputs=backbone.input, outputs=backbone.get_layer(\"block_16_project_BN\").output)\n",
    "backbone.trainable = False\n",
    "backbone.summary()\n",
    "\n",
    "model = keras.Sequential([\n",
    "    backbone,\n",
    "    keras.layers.GlobalAveragePooling2D(),\n",
    "    keras.layers.Dropout(0.1),\n",
    "    keras.layers.Dense(32),\n",
    "    keras.layers.BatchNormalization(momentum=0.9),\n",
    "    keras.layers.ReLU(),\n",
    "    keras.layers.Dense(1, activation='sigmoid', name='fart_predict'),\n",
    "])\n",
    "model.summary()\n"
   ]
  },
  {
   "cell_type": "markdown",
   "id": "0fd15050",
   "metadata": {},
   "source": [
    "### Load weights"
   ]
  },
  {
   "cell_type": "code",
   "execution_count": null,
   "id": "ab674e80",
   "metadata": {},
   "outputs": [],
   "source": [
    "model.load_weights(\"./models_mnv2_1/finetune_checkpoint_mobile_2.hdf5\")"
   ]
  },
  {
   "cell_type": "markdown",
   "id": "4355bf26",
   "metadata": {},
   "source": [
    "### Convert to TFLite"
   ]
  },
  {
   "cell_type": "code",
   "execution_count": null,
   "id": "8434515a",
   "metadata": {},
   "outputs": [],
   "source": [
    "bin_path = '/home/david/anaconda3/envs/fart_detector_37/bin/'\n",
    "\n",
    "if 'PATH' in os.environ:\n",
    "    os.environ['PATH'] += ':' + bin_path\n",
    "else:\n",
    "    os.environ['PATH'] = bin_path"
   ]
  },
  {
   "cell_type": "code",
   "execution_count": null,
   "id": "11d3b7ca",
   "metadata": {},
   "outputs": [],
   "source": [
    "sess = tf.keras.backend.get_session()\n",
    "converter = tf.lite.TFLiteConverter.from_session(\n",
    "    sess,\n",
    "    model.inputs,\n",
    "    model.outputs,\n",
    ")\n",
    "tflite = converter.convert()\n",
    "\n",
    "with open('./models_mnv2_1/fart_detector.tflite', 'wb') as f:\n",
    "    f.write(tflite)"
   ]
  },
  {
   "cell_type": "code",
   "execution_count": null,
   "id": "4343dd72",
   "metadata": {},
   "outputs": [],
   "source": []
  }
 ],
 "metadata": {
  "kernelspec": {
   "display_name": "fart_detector_37",
   "language": "python",
   "name": "fart_detector_37"
  },
  "language_info": {
   "codemirror_mode": {
    "name": "ipython",
    "version": 3
   },
   "file_extension": ".py",
   "mimetype": "text/x-python",
   "name": "python",
   "nbconvert_exporter": "python",
   "pygments_lexer": "ipython3",
   "version": "3.7.11"
  }
 },
 "nbformat": 4,
 "nbformat_minor": 5
}
