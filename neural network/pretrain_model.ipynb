{
 "cells": [
  {
   "cell_type": "code",
   "execution_count": null,
   "id": "05e850f4",
   "metadata": {},
   "outputs": [],
   "source": [
    "import os\n",
    "from glob import glob\n",
    "\n",
    "import numpy as np\n",
    "import tensorflow as tf\n",
    "from tensorflow import keras\n",
    "from tensorflow.keras.backend import set_session\n",
    "\n",
    "os.environ[\"CUDA_VISIBLE_DEVICES\"] = \"0\""
   ]
  },
  {
   "cell_type": "code",
   "execution_count": null,
   "id": "6b711894",
   "metadata": {},
   "outputs": [],
   "source": [
    "config = tf.ConfigProto()\n",
    "config.gpu_options.allow_growth = True  # dynamically grow the memory used on the GPU\n",
    "config.log_device_placement = True  # to log device placement (on which device the operation ran)\n",
    "sess = tf.Session(config=config)\n",
    "set_session(sess)"
   ]
  },
  {
   "cell_type": "markdown",
   "id": "02e1da54",
   "metadata": {},
   "source": [
    "### Create data generator for N classes classification to pretrain a model"
   ]
  },
  {
   "cell_type": "code",
   "execution_count": null,
   "id": "396c946b",
   "metadata": {},
   "outputs": [],
   "source": [
    "class SpectrogramDataLoader(keras.utils.Sequence):\n",
    "    def __init__(\n",
    "            self,\n",
    "            spectrograms_folder: str,\n",
    "            batch_size: int = 16,\n",
    "            shuffle: bool = True,\n",
    "    ):\n",
    "        self.classes_list = glob(os.path.join(spectrograms_folder, '*'))\n",
    "        self.classes_map = {}\n",
    "        self.audio_files = []\n",
    "\n",
    "        self.min_samples = -1\n",
    "        for class_id, class_folder in enumerate(self.classes_list):\n",
    "            class_name = class_folder.split('/')[-1]  # folder name\n",
    "            self.classes_map[class_name] = class_id\n",
    "\n",
    "            spectograms = glob(os.path.join(class_folder, '*.npy'))\n",
    "            if len(spectograms) < self.min_samples or self.min_samples < 0:\n",
    "                self.min_samples = len(spectograms)\n",
    "\n",
    "        self.batch_size = batch_size\n",
    "        self.shuffle = shuffle\n",
    "\n",
    "        self.on_epoch_end()\n",
    "\n",
    "    def __len__(self):\n",
    "        return len(self.spectograms) // self.batch_size\n",
    "\n",
    "    def __getitem__(self, index):\n",
    "        X = np.empty((self.batch_size, 128, 251, 1))\n",
    "        y = np.empty((self.batch_size), dtype=int)\n",
    "\n",
    "        for index_offset in range(self.batch_size):\n",
    "            current_idx = index * self.batch_size + index_offset\n",
    "            with open(self.spectograms[current_idx], 'rb') as f:\n",
    "                spectrogram = np.load(f)\n",
    "\n",
    "            X[index_offset,] = np.expand_dims(spectrogram, axis=-1)\n",
    "            class_name = self.spectograms[current_idx].split('/')[-2]  # folder name\n",
    "\n",
    "            y[index_offset] = self.classes_map[class_name]\n",
    "\n",
    "        return X, keras.utils.to_categorical(y, num_classes=len(self.classes_map))\n",
    "\n",
    "    def on_epoch_end(self):\n",
    "        # Get from each class the same amount of random samples\n",
    "        self.spectograms = []\n",
    "        for class_id, class_folder in enumerate(self.classes_list):\n",
    "            spectograms = glob(os.path.join(class_folder, '*'))\n",
    "            if self.shuffle:\n",
    "                np.random.shuffle(spectograms)\n",
    "            self.spectograms += spectograms[:self.min_samples]\n",
    "\n",
    "        if self.shuffle:\n",
    "            np.random.shuffle(self.spectograms)"
   ]
  },
  {
   "cell_type": "markdown",
   "id": "18ea0b4d",
   "metadata": {},
   "source": [
    "### Create dataloader"
   ]
  },
  {
   "cell_type": "code",
   "execution_count": null,
   "id": "a6a11c01",
   "metadata": {},
   "outputs": [],
   "source": [
    "dataloader_train = SpectrogramDataLoader(\n",
    "    spectrograms_folder=\"./datasets/train_spectrograms\",\n",
    "    batch_size=16,\n",
    "    shuffle=True,\n",
    ")\n",
    "dataloader_eval = SpectrogramDataLoader(\n",
    "    spectrograms_folder=\"./datasets/eval_spectrograms\",\n",
    "    batch_size=16,\n",
    "    shuffle=False,\n",
    ")\n",
    "\n",
    "print(\"Train batches count:\", len(dataloader_train))\n",
    "print(\"Eval batches count:\", len(dataloader_eval))"
   ]
  },
  {
   "cell_type": "markdown",
   "id": "00759ca4",
   "metadata": {},
   "source": [
    "### Create model"
   ]
  },
  {
   "cell_type": "markdown",
   "id": "35b651af",
   "metadata": {},
   "source": [
    "I used MobileNetV2 as a backbone and added a head to it to classify 12 types of sounds."
   ]
  },
  {
   "cell_type": "code",
   "execution_count": null,
   "id": "d8d7a31d",
   "metadata": {},
   "outputs": [],
   "source": [
    "backbone = keras.applications.MobileNetV2(\n",
    "    input_shape=(128, 251, 1),\n",
    "    alpha=1.0,\n",
    "    include_top=False,\n",
    "    weights=None,\n",
    ")\n",
    "for layer in backbone.layers:\n",
    "    if type(layer) == type(keras.layers.BatchNormalization()):\n",
    "        layer.momentum = 0.9\n",
    "\n",
    "backbone = keras.Model(inputs=backbone.input, outputs=backbone.get_layer(\"block_16_project_BN\").output)\n",
    "backbone.summary()\n",
    "\n",
    "model = keras.Sequential([\n",
    "    backbone,\n",
    "    keras.layers.GlobalAveragePooling2D(),\n",
    "    keras.layers.Dropout(0.1),\n",
    "    keras.layers.Dense(32),\n",
    "    keras.layers.BatchNormalization(momentum=0.9),\n",
    "    keras.layers.ReLU(),\n",
    "    keras.layers.Dense(12, activation='softmax'),\n",
    "])\n",
    "model.summary()\n",
    "\n",
    "model.compile(optimizer=keras.optimizers.Adam(learning_rate=0.0001),\n",
    "              loss=keras.losses.CategoricalCrossentropy(from_logits=False),\n",
    "              metrics=['accuracy'])"
   ]
  },
  {
   "cell_type": "markdown",
   "id": "d04fe43f",
   "metadata": {},
   "source": [
    "### Load pretrained model from previous training"
   ]
  },
  {
   "cell_type": "markdown",
   "id": "05fcab70",
   "metadata": {},
   "source": [
    "If we have already trained a model with a higher learning rate and now want to tune it a little, we must load the weights from the previous training."
   ]
  },
  {
   "cell_type": "code",
   "execution_count": null,
   "id": "6fbf2cd1",
   "metadata": {},
   "outputs": [],
   "source": [
    "model.load_weights(\"./models_mnv2_1/pretrain_checkpoint_2.hdf5\")"
   ]
  },
  {
   "cell_type": "code",
   "execution_count": null,
   "id": "32ddf601",
   "metadata": {},
   "outputs": [],
   "source": [
    "model.evaluate(dataloader_eval)"
   ]
  },
  {
   "cell_type": "markdown",
   "id": "f9d932f9",
   "metadata": {},
   "source": [
    "### Train"
   ]
  },
  {
   "cell_type": "code",
   "execution_count": null,
   "id": "1ca5a957",
   "metadata": {
    "scrolled": true
   },
   "outputs": [],
   "source": [
    "checkpoint_filepath = './models_mnv2_1/pretrain_checkpoint_2.hdf5'\n",
    "model_checkpoint_callback = keras.callbacks.ModelCheckpoint(\n",
    "    filepath=checkpoint_filepath,\n",
    "    save_weights_only=False,\n",
    "    monitor='val_acc',\n",
    "    mode='max',\n",
    "    save_best_only=True)\n",
    "\n",
    "model.fit(\n",
    "    x=dataloader_train,\n",
    "    validation_data=dataloader_eval,\n",
    "    epochs=100,\n",
    "    use_multiprocessing=True,\n",
    "    workers=6,\n",
    "    callbacks=[model_checkpoint_callback],\n",
    ")"
   ]
  },
  {
   "cell_type": "markdown",
   "id": "515f2df9",
   "metadata": {},
   "source": [
    "### Save backbone weights only"
   ]
  },
  {
   "cell_type": "code",
   "execution_count": null,
   "id": "00ba2e81",
   "metadata": {},
   "outputs": [],
   "source": [
    "backbone.save(\"./models_mnv2_1/pretrained_backbone.hdf5\")"
   ]
  },
  {
   "cell_type": "code",
   "execution_count": null,
   "id": "5352698c",
   "metadata": {},
   "outputs": [],
   "source": []
  }
 ],
 "metadata": {
  "kernelspec": {
   "display_name": "fart_detector_37",
   "language": "python",
   "name": "fart_detector_37"
  },
  "language_info": {
   "codemirror_mode": {
    "name": "ipython",
    "version": 3
   },
   "file_extension": ".py",
   "mimetype": "text/x-python",
   "name": "python",
   "nbconvert_exporter": "python",
   "pygments_lexer": "ipython3",
   "version": "3.7.11"
  }
 },
 "nbformat": 4,
 "nbformat_minor": 5
}
