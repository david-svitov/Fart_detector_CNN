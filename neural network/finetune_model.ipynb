{
 "cells": [
  {
   "cell_type": "code",
   "execution_count": null,
   "id": "dc5640db",
   "metadata": {},
   "outputs": [],
   "source": [
    "%matplotlib inline\n",
    "import os\n",
    "from glob import glob\n",
    "\n",
    "import librosa\n",
    "import matplotlib.pyplot as plt\n",
    "import numpy as np\n",
    "import tensorflow as tf\n",
    "from tensorflow import keras\n",
    "from tensorflow.keras.backend import set_session\n",
    "\n",
    "from spectrogram_utils import generate_spectrogram\n",
    "\n",
    "os.environ[\"CUDA_VISIBLE_DEVICES\"] = \"0\""
   ]
  },
  {
   "cell_type": "code",
   "execution_count": null,
   "id": "1cd716d0",
   "metadata": {},
   "outputs": [],
   "source": [
    "config = tf.ConfigProto()\n",
    "config.gpu_options.allow_growth = True  # dynamically grow the memory used on the GPU\n",
    "config.log_device_placement = True  # to log device placement (on which device the operation ran)\n",
    "sess = tf.Session(config=config)\n",
    "set_session(sess)"
   ]
  },
  {
   "cell_type": "markdown",
   "id": "c6702092",
   "metadata": {},
   "source": [
    "### Dataloader for one class classification"
   ]
  },
  {
   "cell_type": "markdown",
   "id": "d0b3723a",
   "metadata": {},
   "source": [
    "Data loader for single-class classification. Takes the target sound folder and other folders. Generate a mix of target and background sounds as positive examples."
   ]
  },
  {
   "cell_type": "code",
   "execution_count": null,
   "id": "d7fd977e",
   "metadata": {},
   "outputs": [],
   "source": [
    "class SpectrogramDataLoader(keras.utils.Sequence):\n",
    "    def __init__(\n",
    "            self,\n",
    "            fart_spectrograms_folder: str,\n",
    "            other_spectrograms_folder: str,\n",
    "            batch_size: int = 16,\n",
    "            shuffle: bool = True,\n",
    "    ):\n",
    "        self.fart_spectrograms = glob(os.path.join(fart_spectrograms_folder, '*.npy'))\n",
    "        self.other_spectrograms = glob(os.path.join(other_spectrograms_folder, '[!fart]*/*.npy'))\n",
    "        \n",
    "        self.batch_size = batch_size\n",
    "        self.shuffle = shuffle\n",
    "\n",
    "        self.on_epoch_end()\n",
    "\n",
    "    def __len__(self):\n",
    "        return len(self.fart_spectrograms) // self.batch_size\n",
    "\n",
    "    def __getitem__(self, index):\n",
    "        X = np.empty((self.batch_size, 128, 251, 1))\n",
    "        y = np.empty((self.batch_size), dtype=int)\n",
    "\n",
    "        for index_offset in range(self.batch_size):\n",
    "            current_idx = index * self.batch_size + index_offset\n",
    "            \n",
    "            if index_offset < self.batch_size // 2:\n",
    "                with open(self.fart_spectrograms[current_idx], 'rb') as f:\n",
    "                    spectrogram = np.load(f)\n",
    "                y[index_offset] = 1\n",
    "            else:\n",
    "                if self.shuffle:\n",
    "                    other_file = np.random.choice(self.other_spectrograms)\n",
    "                else:\n",
    "                    other_file = self.other_spectrograms[current_idx % len(self.other_spectrograms)]\n",
    "                with open(other_file, 'rb') as f:\n",
    "                    spectrogram = np.load(f)\n",
    "                y[index_offset] = 0\n",
    "            \n",
    "            X[index_offset,] = np.expand_dims(spectrogram, axis=-1)\n",
    "\n",
    "        shuffled_indeces = np.random.permutation(len(X))\n",
    "        return X[shuffled_indeces], y[shuffled_indeces]\n",
    "\n",
    "    def on_epoch_end(self):\n",
    "        if self.shuffle:\n",
    "            np.random.shuffle(self.fart_spectrograms)\n"
   ]
  },
  {
   "cell_type": "markdown",
   "id": "d52fac61",
   "metadata": {},
   "source": [
    "### Create dataloader"
   ]
  },
  {
   "cell_type": "code",
   "execution_count": null,
   "id": "c97c41b2",
   "metadata": {},
   "outputs": [],
   "source": [
    "dataloader_train = SpectrogramDataLoader(\n",
    "    \"./datasets/train_mobile_spectrograms/fart\",\n",
    "    \"./datasets/train_mobile_spectrograms/\",\n",
    "    batch_size=16,\n",
    "    shuffle=True,\n",
    ")\n",
    "dataloader_eval = SpectrogramDataLoader(\n",
    "    \"./datasets/eval_mobile_spectrograms/fart\",\n",
    "    \"./datasets/eval_mobile_spectrograms/\",\n",
    "    batch_size=16,\n",
    "    shuffle=False,\n",
    ")\n",
    "\n",
    "print(\"Train batches count:\", len(dataloader_train))\n",
    "print(\"Eval batches count:\", len(dataloader_eval))"
   ]
  },
  {
   "cell_type": "code",
   "execution_count": null,
   "id": "d09dad36",
   "metadata": {},
   "outputs": [],
   "source": [
    "X, y = dataloader_eval[0]\n",
    "plt.imshow(X[10,:,:,0], 'gray')\n",
    "plt.show()"
   ]
  },
  {
   "cell_type": "markdown",
   "id": "706c738a",
   "metadata": {},
   "source": [
    "### Create model"
   ]
  },
  {
   "cell_type": "code",
   "execution_count": null,
   "id": "ed98eee2",
   "metadata": {},
   "outputs": [],
   "source": [
    "backbone = keras.applications.MobileNetV2(\n",
    "    input_shape=(128, 251, 1),\n",
    "    alpha=1.0,\n",
    "    include_top=False,\n",
    "    weights=None,\n",
    ")\n",
    "for layer in backbone.layers:\n",
    "    if type(layer) == type(keras.layers.BatchNormalization()):\n",
    "        layer.momentum = 0.9\n",
    "\n",
    "backbone = keras.Model(inputs=backbone.input, outputs=backbone.get_layer(\"block_16_project_BN\").output)\n",
    "\n",
    "# Use pretrained backbone from pretrain_model.ipynb\n",
    "#backbone.load_weights(\"./models_mnv2_1/pretrained_backbone.hdf5\")\n",
    "backbone.trainable = False\n",
    "\n",
    "backbone.summary()\n",
    "\n",
    "model = keras.Sequential([\n",
    "    backbone,\n",
    "    keras.layers.GlobalAveragePooling2D(),\n",
    "    keras.layers.Dropout(0.1),\n",
    "    keras.layers.Dense(32),\n",
    "    keras.layers.BatchNormalization(momentum=0.9),\n",
    "    keras.layers.ReLU(),\n",
    "    keras.layers.Dense(1, activation='sigmoid', name='fart_predict'),\n",
    "])"
   ]
  },
  {
   "cell_type": "markdown",
   "id": "1d88252b",
   "metadata": {},
   "source": [
    "### Load pretrained model from previous training"
   ]
  },
  {
   "cell_type": "markdown",
   "id": "5bc111f0",
   "metadata": {},
   "source": [
    "If we have already trained a model with a higher learning rate and now want to tune it a little, we must load the weights from the previous training."
   ]
  },
  {
   "cell_type": "code",
   "execution_count": null,
   "id": "31513ebf",
   "metadata": {},
   "outputs": [],
   "source": [
    "model.load_weights(\"./models_mnv2_1/finetune_checkpoint_mobile_2.hdf5\")\n",
    "backbone.trainable = True\n",
    "backbone.summary()"
   ]
  },
  {
   "cell_type": "markdown",
   "id": "47d329c8",
   "metadata": {},
   "source": [
    "### Compile model"
   ]
  },
  {
   "cell_type": "code",
   "execution_count": null,
   "id": "d7ec8f40",
   "metadata": {},
   "outputs": [],
   "source": [
    "model.compile(optimizer=keras.optimizers.Adam(learning_rate=0.0001),\n",
    "              loss=keras.losses.BinaryCrossentropy(from_logits=False),\n",
    "              metrics=[keras.metrics.AUC()])"
   ]
  },
  {
   "cell_type": "markdown",
   "id": "fb1adf2d",
   "metadata": {},
   "source": [
    "### Train"
   ]
  },
  {
   "cell_type": "code",
   "execution_count": null,
   "id": "14209ad8",
   "metadata": {
    "scrolled": true
   },
   "outputs": [],
   "source": [
    "checkpoint_filepath = './models_mnv2_1/finetune_checkpoint_mobile_3.hdf5'\n",
    "model_checkpoint_callback = keras.callbacks.ModelCheckpoint(\n",
    "    filepath=checkpoint_filepath,\n",
    "    save_weights_only=False,\n",
    "    monitor='val_auc_1',\n",
    "    mode='max',\n",
    "    save_best_only=True)\n",
    "\n",
    "model.fit(\n",
    "    x=dataloader_train,\n",
    "    validation_data=dataloader_eval,\n",
    "    epochs=1000,\n",
    "    use_multiprocessing=True,\n",
    "    workers=3,\n",
    "    callbacks=[model_checkpoint_callback],\n",
    ")"
   ]
  },
  {
   "cell_type": "markdown",
   "id": "72539ead",
   "metadata": {},
   "source": [
    "### Fast check model predictions"
   ]
  },
  {
   "cell_type": "code",
   "execution_count": null,
   "id": "d2bde602",
   "metadata": {
    "scrolled": true
   },
   "outputs": [],
   "source": [
    "model.evaluate(dataloader_eval)"
   ]
  },
  {
   "cell_type": "code",
   "execution_count": null,
   "id": "72da41b2",
   "metadata": {},
   "outputs": [],
   "source": [
    "X, y = dataloader_eval[2]\n",
    "model.predict(X), y"
   ]
  },
  {
   "cell_type": "markdown",
   "id": "7ad77b52",
   "metadata": {},
   "source": [
    "### Test on recorded audio example"
   ]
  },
  {
   "cell_type": "code",
   "execution_count": null,
   "id": "cb27704a",
   "metadata": {},
   "outputs": [],
   "source": [
    "audio_sample, sr = librosa.load(\"./datasets/voice_eval_mic.wav\", 16000)\n",
    "sr"
   ]
  },
  {
   "cell_type": "code",
   "execution_count": null,
   "id": "d7556f1b",
   "metadata": {
    "scrolled": false
   },
   "outputs": [],
   "source": [
    "detects = []\n",
    "for start_idx in range(0, len(audio_sample)-sr*2, sr):\n",
    "    signal_crop = audio_sample[start_idx: start_idx+sr*2]\n",
    "\n",
    "    spectrogram = generate_spectrogram(\n",
    "                signal=signal_crop,\n",
    "                sample_rate=16000,\n",
    "                n_fft=1024,\n",
    "                hop_length=128,\n",
    "            )\n",
    "    spectrogram = np.expand_dims(spectrogram, axis=[0, -1])\n",
    "    \n",
    "    detect = model.predict(spectrogram)\n",
    "    detects.append(detect[0][0])\n",
    "    \n",
    "plt.plot(detects)\n",
    "plt.show()"
   ]
  },
  {
   "cell_type": "code",
   "execution_count": null,
   "id": "81afd14f",
   "metadata": {},
   "outputs": [],
   "source": []
  }
 ],
 "metadata": {
  "kernelspec": {
   "display_name": "fart_detector_37",
   "language": "python",
   "name": "fart_detector_37"
  },
  "language_info": {
   "codemirror_mode": {
    "name": "ipython",
    "version": 3
   },
   "file_extension": ".py",
   "mimetype": "text/x-python",
   "name": "python",
   "nbconvert_exporter": "python",
   "pygments_lexer": "ipython3",
   "version": "3.7.11"
  }
 },
 "nbformat": 4,
 "nbformat_minor": 5
}
